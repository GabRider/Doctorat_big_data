{
 "cells": [
  {
   "cell_type": "code",
   "execution_count": 1,
   "id": "5da3d8a5-e463-4485-812a-488e10c797e3",
   "metadata": {},
   "outputs": [],
   "source": [
    "import cdsapi\n",
    "import os\n",
    "# import ecmwf.data as ecdata\n",
    "import pandas as pd\n",
    "import numpy as np\n",
    "import xarray as xr\n",
    "\n",
    "from datetime import datetime \n",
    "import sqlite3\n",
    "#import folium\n",
    "import multiprocessing\n",
    "#import matplotlib.pyplot as plt"
   ]
  },
  {
   "cell_type": "code",
   "execution_count": null,
   "id": "851991ab-a634-41cd-8880-b6271d3cad7b",
   "metadata": {},
   "outputs": [],
   "source": [
    "#https://cds.climate.copernicus.eu/datasets/reanalysis-era5-single-levels?tab=download#manage-licences\n",
    "#CDSAPI : https://cds.climate.copernicus.eu/how-to-api\n",
    "\n",
    "c = cdsapi.Client()\n",
    "c.retrieve(\n",
    "    'reanalysis-era5-single-levels',\n",
    "    {\n",
    "        'product_type': 'reanalysis',\n",
    "        'format': 'netcdf',\n",
    "        'variable': [\n",
    "            '2m_temperature', 'total_precipitation',\n",
    "            'surface_pressure', '10m_u_component_of_wind',\n",
    "            '10m_v_component_of_wind', 'relative_humidity'\n",
    "        ],\n",
    "        'year': '2020',\n",
    "        'month': '01',\n",
    "        'day': '01',\n",
    "        'time': '12:00',\n",
    "        'grid': [0.25, 0.25]  # 0.25 x 0.25 degree grid resolution\n",
    "    },\n",
    "    'download_single_levels.nc'\n",
    ")"
   ]
  },
  {
   "cell_type": "code",
   "execution_count": null,
   "id": "0aac1a8c-05b9-4d51-95db-f2de0aafd127",
   "metadata": {},
   "outputs": [],
   "source": [
    "c.retrieve(\n",
    "    'reanalysis-era5-pressure-levels',\n",
    "    {\n",
    "        'product_type': 'reanalysis',\n",
    "        'format': 'netcdf',\n",
    "        'variable': [\n",
    "            'temperature', 'u_component_of_wind',\n",
    "            'v_component_of_wind', 'geopotential', \n",
    "            'specific_humidity'\n",
    "        ],\n",
    "        'pressure_level': ['1', '2', '3', '5', '7', '10', '20', '30', '50', '70', '100', '125', '150', '175', '200', '225', '250', '300', '350', '400', '450', '500', '550', '600', '650', '700', '750', '775', '800', '825', '850', '875', '900', '925', '950', '975', '1000'],\n",
    "        'year': '2020',\n",
    "        'month': '01',\n",
    "        'day': '01',\n",
    "        'time': '12:00',\n",
    "        'grid': [0.25, 0.25]  # 0.25 x 0.25 degree grid resolution\n",
    "    },\n",
    "    'download_pressure_levels.nc'\n",
    ")"
   ]
  },
  {
   "cell_type": "code",
   "execution_count": 13,
   "id": "2e0ea175-9d39-4720-9cdd-8526c05bb3d0",
   "metadata": {},
   "outputs": [
    {
     "name": "stdout",
     "output_type": "stream",
     "text": [
      "<xarray.Dataset> Size: 21MB\n",
      "Dimensions:         (valid_time: 1, pressure_level: 1, latitude: 721,\n",
      "                     longitude: 1440)\n",
      "Coordinates:\n",
      "    number          int64 8B ...\n",
      "  * valid_time      (valid_time) datetime64[ns] 8B 2020-01-01T12:00:00\n",
      "  * pressure_level  (pressure_level) float64 8B 1.0\n",
      "  * latitude        (latitude) float64 6kB 90.0 89.75 89.5 ... -89.75 -90.0\n",
      "  * longitude       (longitude) float64 12kB 0.0 0.25 0.5 ... 359.2 359.5 359.8\n",
      "    expver          <U4 16B ...\n",
      "    spatial_ref     int64 8B 0\n",
      "Data variables:\n",
      "    t               (valid_time, pressure_level, latitude, longitude) float32 4MB ...\n",
      "    u               (valid_time, pressure_level, latitude, longitude) float32 4MB ...\n",
      "    v               (valid_time, pressure_level, latitude, longitude) float32 4MB ...\n",
      "    z               (valid_time, pressure_level, latitude, longitude) float32 4MB ...\n",
      "    q               (valid_time, pressure_level, latitude, longitude) float32 4MB ...\n",
      "Attributes:\n",
      "    GRIB_centre:             ecmf\n",
      "    GRIB_centreDescription:  European Centre for Medium-Range Weather Forecasts\n",
      "    GRIB_subCentre:          0\n",
      "    Conventions:             CF-1.7\n",
      "    institution:             European Centre for Medium-Range Weather Forecasts\n",
      "    history:                 2024-11-06T10:36 GRIB to CDM+CF via cfgrib-0.9.1...\n",
      "Frozen({'valid_time': 1, 'pressure_level': 1, 'latitude': 721, 'longitude': 1440})\n"
     ]
    }
   ],
   "source": [
    "import xarray as xr\n",
    "import rioxarray\n",
    "\n",
    "# Open the NetCDF file using xarray (not rioxarray.open_rasterio)\n",
    "#data = xr.open_dataset('download_single_levels.nc')\n",
    "data = xr.open_dataset('download_pressure_levels.nc')\n",
    "# To add rioxarray's geospatial functionalities, convert the dataset after loading\n",
    "data = data.rio.write_crs(\"epsg:4326\", inplace=True)  # Assuming the data has a known CRS\n",
    "# Selecting specific pressure levels\n",
    "selected_levels = data.sel(pressure_level=[1])  # Adjust the name 'pressure_level' as needed\n",
    "print(selected_levels)\n",
    "\n",
    "print(selected_levels.sizes)\n",
    "data.close()\n",
    "# Optionally, if you need to access or use specific rioxarray functionalities:\n",
    "# data.rio.your_method_here()\n"
   ]
  },
  {
   "cell_type": "code",
   "execution_count": null,
   "id": "b788fdcf-0001-4c42-9921-d0075b924a3a",
   "metadata": {},
   "outputs": [],
   "source": []
  },
  {
   "cell_type": "code",
   "execution_count": null,
   "id": "277a2a53-2d91-4f0e-90ba-d014f6103974",
   "metadata": {},
   "outputs": [],
   "source": []
  }
 ],
 "metadata": {
  "kernelspec": {
   "display_name": "Python 3 (ipykernel)",
   "language": "python",
   "name": "python3"
  },
  "language_info": {
   "codemirror_mode": {
    "name": "ipython",
    "version": 3
   },
   "file_extension": ".py",
   "mimetype": "text/x-python",
   "name": "python",
   "nbconvert_exporter": "python",
   "pygments_lexer": "ipython3",
   "version": "3.11.10"
  }
 },
 "nbformat": 4,
 "nbformat_minor": 5
}
