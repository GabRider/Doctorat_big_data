{
 "cells": [
  {
   "cell_type": "code",
   "execution_count": 12,
   "id": "96b4f09e-d10d-4200-b041-04c7a3de665e",
   "metadata": {},
   "outputs": [],
   "source": [
    "import xml.etree.ElementTree as ET\n",
    "import csv"
   ]
  },
  {
   "cell_type": "code",
   "execution_count": 16,
   "id": "086f633a-2791-463d-bc18-7767c978910c",
   "metadata": {},
   "outputs": [],
   "source": [
    "def retrieve_xml_root(xml_file):\n",
    "    return ET.parse(xml_file).getroot()"
   ]
  },
  {
   "cell_type": "markdown",
   "id": "d75241d5-8e2e-4089-a991-9ab8e1078194",
   "metadata": {},
   "source": [
    "# Converts xml Periods into csv file\n",
    "\n",
    " ```XML\n",
    "<periods>\n",
    "    <period id=\"1\" length=\"120\" day=\"07/12/10\" time=\"8:00am-10:00am\" penalty=\"0\"/>\n",
    "    <period id=\"2\" length=\"120\" day=\"07/12/10\" time=\"10:20am-12:20pm\" penalty=\"0\"/>\n",
    "    <period id=\"3\" length=\"120\" day=\"07/12/10\" time=\"1:00pm- 3:00pm\" penalty=\"0\"/>\n",
    "    <period id=\"4\" length=\"120\" day=\"07/12/10\" time=\"3:20pm- 5:20pm\" penalty=\"0\"/>\n",
    "    <period id=\"5\" length=\"120\" day=\"07/12/10\" time=\"7:00pm- 9:00pm\" penalty=\"0\"/>\n",
    "    <period id=\"6\" length=\"120\" day=\"07/12/11\" time=\"8:00am-10:00am\" penalty=\"0\"/>\n",
    "    <period id=\"7\" length=\"120\" day=\"07/12/11\" time=\"10:20am-12:20pm\" penalty=\"2\"/>\n",
    "    ...\n",
    "</periods>\n",
    "```\n",
    "- **period**: definition of an examination period\n",
    "- **id**\tperiod unique id\n",
    "- **length**\tperiod length (in minutes)\n",
    "- **day**\tperiod date (string)\n",
    "- **time**\tperiod time (string)\n",
    "- **penalty**\tpenalization of using this period\n",
    "\n",
    "Unless changed on an exam, if an exam is assigned to a period with non-zero penalty, this penalty is added to the overall period penalty of the solution"
   ]
  },
  {
   "cell_type": "code",
   "execution_count": 17,
   "id": "ce0a65e8-1292-4e86-9adc-34701d46f277",
   "metadata": {},
   "outputs": [
    {
     "name": "stdout",
     "output_type": "stream",
     "text": [
      "Data successfully converted to './csv_data/periods.csv'.\n"
     ]
    }
   ],
   "source": [
    "xml_file = \"./raw_data/periods.xml\"  \n",
    "csv_file = \"./csv_data/periods.csv\"  # Replace with your desired output CSV file path \n",
    "root = retrieve_xml_root(xml_file)\n",
    "with open(csv_file, mode='w', newline='', encoding='utf-8') as file:\n",
    "    writer = csv.writer(file)\n",
    "\n",
    "    # Write the CSV header\n",
    "    writer.writerow([\"Period ID\", \"Length (minutes)\", \"Day\", \"Time\", \"Penalty\"])\n",
    "\n",
    "    # Loop through each period in the XML\n",
    "    for period in root.findall('period'):\n",
    "        period_id = period.get('id', 'N/A')\n",
    "        length = period.get('length', 'N/A')\n",
    "        day = period.get('day', 'N/A')\n",
    "        time = period.get('time', 'N/A')\n",
    "        penalty = period.get('penalty', '0')  # Default penalty is 0\n",
    "        writer.writerow([period_id, length, day, time, penalty])\n",
    "\n",
    "print(f\"Data successfully converted to '{csv_file}'.\")"
   ]
  },
  {
   "cell_type": "markdown",
   "id": "f867383b-440b-445f-9558-da9298d2427f",
   "metadata": {},
   "source": [
    "# Converts xml data rooms into csv file\n",
    "\n",
    " ```XML\n",
    "<rooms>\n",
    "    <room id=\"1\" size=\"58\" alt=\"32\" coordinates=\"447,392\"/>\n",
    "    <room id=\"2\" size=\"50\" alt=\"25\" coordinates=\"447,392\"/>\n",
    "    <room id=\"3\" size=\"60\" alt=\"30\" coordinates=\"450,463\"\n",
    "        <period id=\"3\" available=\"false\"/>\n",
    "        <period id=\"5\" penalty=\"2\"/>\n",
    "    </room>\n",
    "    ...\n",
    "</rooms>\n",
    " ```\n",
    "- **room**: definition of an examination room\n",
    "    - **id :**\troom unique id\n",
    "    - **size :**\troom size (number of seats in the room)\n",
    "    - **alt :**\talternative room size (number of seats in the room if an exam requests alternate seating)\n",
    "    - **coordinates :**\troom location coordinates X,Y\n",
    "Distance between rooms in meters is: $10 * ((x_2-x_1)^2 + (y_2-y_1)^2)^{1/2}$\n",
    "Location attribute might not be present (e.g., for non-campus locations), distance between such a room and any other room are considered as infinite in such a case\n",
    "\n",
    "Room period preferences:\n",
    "- **period :**\tdefinition of a period preference of a room\n",
    "    - **id :**\tperiod unique id\n",
    "    - **available :**\tif false, room is not available during this period (default is true) penalty\tpenalization of using the room during this period (default is zero)\n",
    "\n",
    "Room can be unavailable for certain periods. Unless changed on an exam, if an exam is assigned to a room in a period with non-zero penalty, this penalty is added to the overall room penalty of the solution."
   ]
  },
  {
   "cell_type": "code",
   "execution_count": 18,
   "id": "f1786474-702a-41e9-b14e-e32242eaaebc",
   "metadata": {},
   "outputs": [
    {
     "name": "stdout",
     "output_type": "stream",
     "text": [
      "CSV file './csv_data/rooms.csv' has been created successfully.\n"
     ]
    }
   ],
   "source": [
    "xml_file = \"./raw_data/rooms.xml\"  \n",
    "csv_file = \"./csv_data/rooms.csv\"  # Replace with your desired output CSV file path \n",
    "root = retrieve_xml_root(xml_file)\n",
    "with open(csv_file, mode='w', newline='', encoding='utf-8') as file:\n",
    "   writer = csv.writer(file)\n",
    "\n",
    "# Write the CSV header\n",
    "   writer.writerow([\"Room ID\", \"Size\", \"Alt Size\", \"Coordinates\", \"Period ID\", \"Available\", \"Penalty\"])\n",
    "\n",
    "   # Loop through each room in the XML\n",
    "   for room in root.findall('room'):\n",
    "      room_id = room.get('id', 'N/A')\n",
    "      size = room.get('size', 'N/A')\n",
    "      alt_size = room.get('alt', 'N/A')\n",
    "      coordinates = room.get('coordinates', 'N/A')\n",
    "\n",
    "      # Process periods associated with the room\n",
    "      periods = room.findall('period')\n",
    "      if periods:\n",
    "         for period in periods:\n",
    "            period_id = period.get('id', 'N/A')\n",
    "            available = period.get('available', 'true')  # Default is true\n",
    "            penalty = period.get('penalty', '0')  # Default is 0\n",
    "            writer.writerow([room_id, size, alt_size, coordinates, period_id, available, penalty])\n",
    "      else:\n",
    "         # Write room info if no periods are defined\n",
    "         writer.writerow([room_id, size, alt_size, coordinates, \"N/A\", \"true\", \"0\"])\n",
    "\n",
    "# Input XML file and output CSV file paths\n",
    "\n",
    "\n",
    "print(f\"CSV file '{csv_file}' has been created successfully.\")"
   ]
  },
  {
   "cell_type": "markdown",
   "id": "97836885-cd29-4a16-aeb2-52185a432843",
   "metadata": {},
   "source": [
    "# Converts xml data exams into csv file\n",
    "\n",
    " ```XML\n",
    "<exams>\n",
    "    <exam id=\"1\" length=\"120\" alt=\"true\" minSize=\"10\" maxRooms=\"2\" average=\"14\">\n",
    "        <period id=\"1\"/>\n",
    "        <period id=\"3\" penalty=\"2\"/>\n",
    "        <period id=\"4\" penalty=\"-2\"/>\n",
    "        ...\n",
    "        <room id=\"1\"/>\n",
    "        <room id=\"5\" penalty=\"2\"/>\n",
    "        <room id=\"12\" penalty=\"-1\"/>\n",
    "        ...\n",
    "        <assignment>\n",
    "            <period id=\"1\"/>\n",
    "            <room id=\"5\"/>\n",
    "            <room id=\"12\"/>\n",
    "        </assignment>\n",
    "    </exam>\n",
    "    <exam id=\"2\" length=\"60\" alt=\"false\">\n",
    "        <period id=\"2\"/>\n",
    "        <period id=\"4\" penalty=\"2\"/>\n",
    "        ...\n",
    "        <room id=\"1\"/>\n",
    "        <room id=\"4\"/>\n",
    "        ...\n",
    "        <assignment>\n",
    "            <period id=\"4\"/>\n",
    "            <room id=\"4\"/>\n",
    "        </assignment>\n",
    "    </exam>\n",
    "    <exam id=\"3\" length=\"60\" alt=\"false\" maxRooms=\"0\">\n",
    "        <period id=\"2\"/>\n",
    "        <period id=\"5\" penalty=\"2\"/>\n",
    "        ...\n",
    "        <assignment>\n",
    "            <period id=\"2\"/>\n",
    "        </assignment>\n",
    "    </exam>\n",
    "    ...\n",
    "</exams>\n",
    " ```\n",
    "\n",
    "- **exam :** definition of an examination\n",
    "    - **id :**\texamination unique id\n",
    "    - **length :**\tlength (in minutes)\n",
    "    - **alt :**\talternate seating requested\n",
    "    - **minSize :**\tminimal size of the requested room (zero if not present)\n",
    "    - **maxRooms :**\tmaximal number of rooms (4 if not present)\n",
    "    - **average :**\tindex of average period (for rotation penalty)\n",
    "  \n",
    "List of available periods and rooms is included in the exam element. If an exam is assigned to period and room(s), assignment element is also present. The following hard constraint must be met\n",
    "\n",
    "- Only one exam can be placed in a room at any period.\n",
    "- Only available periods and rooms may be used (periods/rooms listed under the exam).\n",
    "- A room cannot be used on periods during which it is not available.\n",
    "- An exam must be placed in a room (or a set of rooms) so that the overall seating capacity of the rooms equals or is greater than the number of students attending the exam, with respect to the requested seating type (e.g., each room has a normal seating (size attribute) and alternate seating capacities defined (alt attribute), an exam can request either normal (alt=false) or alternate seating (alt=true)). Maximal number of rooms into which an exam can be split (maxRooms attribute) cannot be exceeded as well.\n",
    "- If maximal number of rooms is set to zero, an exam is to be placed only in a period (without any room assignment).\n",
    "- Required distribution constraints must be satisfied(see bellow)."
   ]
  },
  {
   "cell_type": "code",
   "execution_count": 20,
   "id": "b40ba4c4-fcf5-47ee-97a8-965aab724fff",
   "metadata": {},
   "outputs": [
    {
     "name": "stdout",
     "output_type": "stream",
     "text": [
      "Data successfully written to ./csv_data/exams.csv\n"
     ]
    }
   ],
   "source": [
    "xml_file = \"./raw_data/exams.xml\"  \n",
    "csv_file = \"./csv_data/exams.csv\"  # Replace with your desired output CSV file path \n",
    "csv_headers = [\n",
    "    \"ExamID\", \"Length\", \"AltSeating\", \"MinSize\", \"MaxRooms\", \"Average\",\n",
    "    \"PeriodID\", \"PeriodPenalty\", \"RoomID\", \"RoomPenalty\", \"AssignedPeriod\", \"AssignedRooms\"\n",
    "]\n",
    "root = retrieve_xml_root(xml_file)\n",
    "with open(csv_file, mode=\"w\", newline=\"\", encoding=\"utf-8\") as file:\n",
    "    writer = csv.writer(file)\n",
    "    writer.writerow(csv_headers)\n",
    "\n",
    "    # Process each exam\n",
    "    for exam in root.findall(\"exam\"):\n",
    "        exam_id = exam.get(\"id\")\n",
    "        length = exam.get(\"length\")\n",
    "        alt_seating = exam.get(\"alt\")\n",
    "        min_size = exam.get(\"minSize\", \"0\")\n",
    "        max_rooms = exam.get(\"maxRooms\", \"4\")\n",
    "        average = exam.get(\"average\", \"\")\n",
    "\n",
    "        # Extract periods\n",
    "        for period in exam.findall(\"period\"):\n",
    "            period_id = period.get(\"id\")\n",
    "            period_penalty = period.get(\"penalty\", \"0\")\n",
    "\n",
    "            # Extract rooms\n",
    "            for room in exam.findall(\"room\"):\n",
    "                room_id = room.get(\"id\")\n",
    "                room_penalty = room.get(\"penalty\", \"0\")\n",
    "\n",
    "                # Extract assignment details\n",
    "                assignment = exam.find(\"assignment\")\n",
    "                assigned_period = \"\"\n",
    "                assigned_rooms = \"\"\n",
    "                if assignment is not None:\n",
    "                    assigned_period = assignment.find(\"period\").get(\"id\", \"\") if assignment.find(\"period\") is not None else \"\"\n",
    "                    assigned_rooms = \", \".join([r.get(\"id\") for r in assignment.findall(\"room\")])\n",
    "\n",
    "                # Write data to the CSV file\n",
    "                writer.writerow([\n",
    "                    exam_id, length, alt_seating, min_size, max_rooms, average,\n",
    "                    period_id, period_penalty, room_id, room_penalty, assigned_period, assigned_rooms\n",
    "                ])\n",
    "\n",
    "print(f\"Data successfully written to {csv_file}\")"
   ]
  },
  {
   "cell_type": "markdown",
   "id": "176358cc-03a7-4a2d-9882-79bc7420dc5d",
   "metadata": {},
   "source": [
    "# Converts xml data students into csv file\n",
    " ```XML\n",
    "\n",
    "<students>\n",
    "    <student id=\"1\">\n",
    "        <exam id=\"2048\"/>\n",
    "        <exam id=\"1976\"/>\n",
    "        <exam id=\"1978\"/>\n",
    "        <period id=\"3\" available=\"false\"/>\n",
    "    </student>\n",
    "    <student id=\"2\">\n",
    "        <exam id=\"389\"/>\n",
    "        <exam id=\"1924\"/>\n",
    "        <exam id=\"2103\"/>\n",
    "    </student>\n",
    "    ...\n",
    "</students>\n",
    "```\n",
    "Each student has a unique id and a list of examinations into which he/she is enrolled.\n",
    "A student might be not available at some periods (direct conflict occurs when an exam with such a student is placed into such a period)"
   ]
  },
  {
   "cell_type": "code",
   "execution_count": 30,
   "id": "68c2e296-0e27-448a-b229-b3b3dd476c30",
   "metadata": {},
   "outputs": [
    {
     "name": "stdout",
     "output_type": "stream",
     "text": [
      "Data successfully converted and saved to ./csv_data/students.csv\n"
     ]
    }
   ],
   "source": [
    "xml_file = \"./raw_data/students.xml\"  \n",
    "csv_file = \"./csv_data/students.csv\"  # Replace with your desired output CSV file path \n",
    "\n",
    "root = retrieve_xml_root(xml_file)\n",
    "with open(csv_file, 'w', newline='', encoding='utf-8') as file:\n",
    "    writer = csv.writer(file)\n",
    "\n",
    "    # Write the header\n",
    "    writer.writerow(['Student ID', 'Exam IDs'])\n",
    "\n",
    "    # Parse and write data\n",
    "    for student in root.findall('student'):\n",
    "        student_id = student.get('id')\n",
    "        exams = [exam.get('id') for exam in student.findall('exam')]\n",
    "        writer.writerow([student_id, ', '.join(exams)])\n",
    "\n",
    "print(f\"Data successfully converted and saved to {csv_file}\")"
   ]
  },
  {
   "cell_type": "code",
   "execution_count": 23,
   "id": "b1d187e6-6ae0-475d-87d3-88ad29aed847",
   "metadata": {},
   "outputs": [
    {
     "name": "stdout",
     "output_type": "stream",
     "text": [
      "Data successfully converted and saved to ./csv_data/instructors.csv\n"
     ]
    }
   ],
   "source": [
    "xml_file = \"./raw_data/instructors.xml\"  \n",
    "csv_file = \"./csv_data/instructors.csv\"  # Replace with your desired output CSV file path \n",
    "\n",
    "root = retrieve_xml_root(xml_file)\n",
    "with open(csv_file, 'w', newline='', encoding='utf-8') as file:\n",
    "    writer = csv.writer(file)\n",
    "\n",
    "    # Write the header\n",
    "    writer.writerow(['Instructor ID', 'Exam IDs', 'Unavailable Periods'])\n",
    "\n",
    "    # Parse and write data\n",
    "    for instructor in root.findall('instructor'):\n",
    "        instructor_id = instructor.get('id')\n",
    "        exams = [exam.get('id') for exam in instructor.findall('exam')]\n",
    "        unavailable_periods = [\n",
    "            period.get('id') for period in instructor.findall('period') if period.get('available') == 'false'\n",
    "        ]\n",
    "        writer.writerow([instructor_id, ', '.join(exams), ', '.join(unavailable_periods)])\n",
    "\n",
    "print(f\"Data successfully converted and saved to {csv_file}\")"
   ]
  },
  {
   "cell_type": "markdown",
   "id": "d8c917e6-fa2b-4ccc-b037-824e282c80c5",
   "metadata": {},
   "source": [
    "# Converts xml data constraint into csv file\n",
    " ```XML\n",
    "<constraints>\n",
    "    <different-period id=\"1\">\n",
    "        <exam id=\"123\"/>\n",
    "        <exam id=\"345\"/>\n",
    "        <exam id=\"2334\"/>\n",
    "    </different-period>\n",
    "    <different-room id=\"2\" hard=\"false\" weight=\"2\">\n",
    "        <exam id=\"12\"/>\n",
    "        <exam id=\"157\"/>\n",
    "    </different-room>\n",
    "    ...\n",
    "</constraints>\n",
    " ```\n",
    "Distribution constraints are constraints that take place between two or more exams. Each instructor has a unique id and a list of examinations into which he/she is enrolled.\n",
    "Soft constraints have hard attribute set to false (default is true), and have a weight defined. This weight is added to overall distribution penalty of a solution if the constraint is not satisfied.\n",
    "\n",
    "Following constraints are defined:\n",
    "- **same-room** ... exams are required/preferred to take place in the same room or rooms.\n",
    "- **different-room** ... exams are required/preferred to take place in different rooms (no two - exams of the constraint are to be placed in the same room).\n",
    "- **same-period** ... exams are required/preferred to take place during the same periods.\n",
    "- **different-period** ... exams are required/preferred to take place during different period.\n",
    "- **precedence** ... exams are required/preferred to take place in the order they are listed in the constraint. For instance if exam A is in the precedence constraint before exam B, it is to be placed in a period that precedes the period in which exam B is placed."
   ]
  },
  {
   "cell_type": "code",
   "execution_count": 28,
   "id": "51231bdf-5adf-4f6b-bc0f-0c745a4b9626",
   "metadata": {},
   "outputs": [
    {
     "name": "stdout",
     "output_type": "stream",
     "text": [
      "Data successfully written to ./csv_data/constraints.csv\n"
     ]
    }
   ],
   "source": [
    "xml_file = \"./raw_data/constraints.xml\"  \n",
    "csv_file = \"./csv_data/constraints.csv\"  # Replace with your desired output CSV file path \n",
    "\n",
    "root = retrieve_xml_root(xml_file)\n",
    "csv_headers = ['Constraint Type', 'Constraint ID', 'Hard', 'Weight', 'Exam IDs']\n",
    "\n",
    "# Open the CSV file for writing\n",
    "with open(csv_file, 'w', newline='', encoding='utf-8') as file:\n",
    "    writer = csv.writer(file)\n",
    "    writer.writerow(csv_headers)\n",
    "\n",
    "    # Iterate over all constraint types\n",
    "    for constraint in root:\n",
    "        constraint_type = constraint.tag  # e.g., \"different-period\", \"same-room\"\n",
    "        constraint_id = constraint.get('id')\n",
    "        hard = constraint.get('hard', 'true')  # Default is true\n",
    "        weight = constraint.get('weight', '0')  # Default is 0\n",
    "\n",
    "        # Collect all exam IDs in the constraint\n",
    "        exam_ids = [exam.get('id') for exam in constraint.findall('exam')]\n",
    "\n",
    "        # Write the row to the CSV file\n",
    "        writer.writerow([constraint_type, constraint_id, hard, weight, ', '.join(exam_ids)])\n",
    "\n",
    "print(f\"Data successfully written to {csv_file}\")"
   ]
  },
  {
   "cell_type": "markdown",
   "id": "440a88d1-0429-4664-91d3-b73c100b9924",
   "metadata": {},
   "source": [
    "# Converts xml data parameters into csv file\n"
   ]
  },
  {
   "cell_type": "code",
   "execution_count": 26,
   "id": "9d2c4c8a-79fa-479f-a515-49dcdcf436a0",
   "metadata": {},
   "outputs": [
    {
     "name": "stdout",
     "output_type": "stream",
     "text": [
      "Data successfully converted and saved to './csv_data/parameters.csv'\n"
     ]
    }
   ],
   "source": [
    "xml_file = \"./raw_data/parameters.xml\"  \n",
    "csv_file = \"./csv_data/parameters.csv\"  # Replace with your desired output CSV file path \n",
    "\n",
    "root = retrieve_xml_root(xml_file)\n",
    "with open(csv_file, mode='w', newline='', encoding='utf-8') as file:\n",
    "    writer = csv.writer(file)\n",
    "\n",
    "    # Write the CSV header\n",
    "    writer.writerow(['Property Name', 'Value'])\n",
    "\n",
    "    # Iterate over each property in the XML\n",
    "    for property in root.findall('property'):\n",
    "        name = property.get('name')\n",
    "        value = property.get('value')\n",
    "        writer.writerow([name, value])\n",
    "\n",
    "print(f\"Data successfully converted and saved to '{csv_file}'\")"
   ]
  },
  {
   "cell_type": "code",
   "execution_count": null,
   "id": "819acea1-6183-4fa4-a973-7e66e19a33e5",
   "metadata": {},
   "outputs": [],
   "source": []
  },
  {
   "cell_type": "code",
   "execution_count": null,
   "id": "56a08778-f7f6-4dae-bfb8-0bba74206a66",
   "metadata": {},
   "outputs": [],
   "source": []
  }
 ],
 "metadata": {
  "kernelspec": {
   "display_name": "Python 3 (ipykernel)",
   "language": "python",
   "name": "python3"
  },
  "language_info": {
   "codemirror_mode": {
    "name": "ipython",
    "version": 3
   },
   "file_extension": ".py",
   "mimetype": "text/x-python",
   "name": "python",
   "nbconvert_exporter": "python",
   "pygments_lexer": "ipython3",
   "version": "3.8.3"
  }
 },
 "nbformat": 4,
 "nbformat_minor": 5
}
